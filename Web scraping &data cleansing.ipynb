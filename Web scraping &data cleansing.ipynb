{
 "cells": [
  {
   "cell_type": "code",
   "execution_count": null,
   "id": "decc1369",
   "metadata": {},
   "outputs": [],
   "source": [
    "import pandas as pd\n",
    "from bs4 import BeautifulSoup\n",
    "import requests\n",
    "import boto3\n",
    "from io import StringIO # python3; python2: BytesIO \n",
    "#url='https://www.toronto.ca/data/children/dmc/a2z/a2za.html'\n",
    "#df.append(pd.read_html(url))\n",
    "#this loads all the tables in the page"
   ]
  },
  {
   "cell_type": "code",
   "execution_count": null,
   "id": "1ac008ad",
   "metadata": {},
   "outputs": [],
   "source": [
    "import numpy as np"
   ]
  },
  {
   "cell_type": "code",
   "execution_count": null,
   "id": "b4e3b78c",
   "metadata": {},
   "outputs": [],
   "source": [
    "pd.set_option('display.max_rows', None)\n",
    "pd.set_option('display.max_columns', None)\n",
    "pd.set_option('display.width', None)\n",
    "pd.set_option('display.max_colwidth', None)"
   ]
  },
  {
   "cell_type": "code",
   "execution_count": null,
   "id": "2f34948e",
   "metadata": {},
   "outputs": [],
   "source": [
    "website='https://www.toronto.ca/data/children/dmc/a2z/a2za.html'\n",
    "result=requests.get(website)\n",
    "content=result.text\n",
    "soup=BeautifulSoup(content,'lxml')\n"
   ]
  },
  {
   "cell_type": "markdown",
   "id": "dd066d3a",
   "metadata": {},
   "source": [
    "**Retrieving all the urls's for A to z listing**"
   ]
  },
  {
   "cell_type": "code",
   "execution_count": null,
   "id": "513ae14c",
   "metadata": {},
   "outputs": [],
   "source": [
    "main='https://www.toronto.ca/data/children/dmc/a2z/'\n",
    "list_of_pages=soup.find(class_='phone')\n",
    "alpha_list=[listing['href'] for listing in list_of_pages.find_all('a', href=True)]\n",
    "#alpha_list"
   ]
  },
  {
   "cell_type": "markdown",
   "id": "99faa4eb",
   "metadata": {},
   "source": [
    "**1.Extracting Subsidy information for all the childcare centres**"
   ]
  },
  {
   "cell_type": "code",
   "execution_count": null,
   "id": "41217d03",
   "metadata": {},
   "outputs": [],
   "source": [
    "data=[]\n",
    "for url in alpha_list:\n",
    "    website1=main+url\n",
    "    result1=requests.get(website1)\n",
    "    content1=result1.text\n",
    "    soup1=BeautifulSoup(content1,'lxml')\n",
    "    table=soup1.findAll('table')[0]\n",
    "    header=table.find_all('th')\n",
    "    rows=table.find_all('tr')\n",
    "    for row in rows[1:]:\n",
    "        data.append(row.getText(strip=True,separator='\\n'))\n"
   ]
  },
  {
   "cell_type": "markdown",
   "id": "d2f32562",
   "metadata": {},
   "source": [
    "Writing the subsidy information to a DataFrame"
   ]
  },
  {
   "cell_type": "code",
   "execution_count": null,
   "id": "af061de5",
   "metadata": {},
   "outputs": [],
   "source": [
    "cols=['Centre_Name','Fee_subsidy_accepted']\n",
    "table_subsidy_info=pd.DataFrame(columns=cols) \n",
    "for i in range(len(data)):\n",
    "    table_subsidy_info.loc[i,table_subsidy_info.columns[0]]=data[i].split('\\n')[0]\n",
    "    table_subsidy_info.loc[i,table_subsidy_info.columns[1]]=data[i].split('\\n')[1]\n"
   ]
  },
  {
   "cell_type": "markdown",
   "id": "11c51a08",
   "metadata": {},
   "source": [
    "**2.Extracting Centre information**"
   ]
  },
  {
   "cell_type": "markdown",
   "id": "6c0b7932",
   "metadata": {},
   "source": [
    "Store the links of all the centres"
   ]
  },
  {
   "cell_type": "code",
   "execution_count": null,
   "id": "17ce6197",
   "metadata": {},
   "outputs": [],
   "source": [
    "main='https://www.toronto.ca/data/children/dmc/a2z/'\n",
    "root = 'https://www.toronto.ca/data/children/dmc'\n",
    "links=[]\n",
    "for mlink in alpha_list:\n",
    "    concat=main+str(mlink)\n",
    "    result2=requests.get(concat)\n",
    "    content2=result2.text\n",
    "    soup2 = BeautifulSoup(content2, 'lxml')\n",
    "    tabular2=soup2.find(class_='pfrPrdListing')\n",
    "    for link in tabular2.find_all('a', href=True):\n",
    "        links.append(root+str(link['href']).replace('..',''))\n"
   ]
  },
  {
   "cell_type": "markdown",
   "id": "ebd84cce",
   "metadata": {},
   "source": [
    "Extract data from each url"
   ]
  },
  {
   "cell_type": "code",
   "execution_count": null,
   "id": "3efeda7e",
   "metadata": {},
   "outputs": [],
   "source": [
    "centre=[]\n",
    "Address=[]\n",
    "Ward=[]\n",
    "Age=[]\n",
    "Contact=[]\n",
    "for link in links:\n",
    "    result=requests.get(link)\n",
    "    content=result.text\n",
    "    soup=BeautifulSoup(content,'lxml')\n",
    "    centre.append(soup.find(class_=\"active\").get_text())\n",
    "    Address.append(soup.find('div',class_=\"csd_opcrit_content_box\").find('p').get_text(strip=True,separator=','))\n",
    "    Ward.append(soup.find('div',class_=\"csd_opcrit_content_box\").find('span').get_text(strip=True) )\n",
    "    Age.append(soup.find('div',class_=\"csd_opcrit_content_box\").find('strong').get_text(strip=True) if soup.find('div',class_=\"csd_opcrit_content_box\").find('strong') else '')\n",
    "    Contact.append(soup.find(class_=\"nudge\").get_text(strip=True) if soup.find(class_=\"nudge\") else '')\n",
    "    #if soup.find('div',class_=\"csd_opcrit_content_box\").find('strong'):\n",
    "        #Age.append(soup.find('div',class_=\"csd_opcrit_content_box\").find('strong').get_text(strip=True))\n",
    "    #else:\n",
    "        #Age.append(\"\")"
   ]
  },
  {
   "cell_type": "markdown",
   "id": "94ef2057",
   "metadata": {},
   "source": [
    "Dataframe for Centre contact information"
   ]
  },
  {
   "cell_type": "code",
   "execution_count": null,
   "id": "ac9f1144",
   "metadata": {},
   "outputs": [],
   "source": [
    "dic={'Centre_name':centre,'Address':Address,'Ward':Ward,'Age':Age,'Contact':Contact}\n",
    "Centre_information=pd.DataFrame(dic)\n",
    "Centre_information"
   ]
  },
  {
   "cell_type": "markdown",
   "id": "f48c883d",
   "metadata": {},
   "source": [
    "**3.Early years program information**"
   ]
  },
  {
   "cell_type": "code",
   "execution_count": null,
   "id": "df088d3a",
   "metadata": {},
   "outputs": [],
   "source": [
    "cols=['Program_name','Capacity','Vacancy','Quality_Rating','Center_name','Before_after_school_program','Center_address']\n",
    "Early_years_program_info=pd.DataFrame(columns=cols) \n",
    "for link in links:\n",
    "    table_program_info=pd.DataFrame(columns=cols)\n",
    "    data=[]\n",
    "    result1=requests.get(link)\n",
    "    content1=result1.text\n",
    "    soup1=BeautifulSoup(content1,'lxml')\n",
    "    table_all=soup1.findAll('table')\n",
    "    cc_name=soup1.find(class_=\"active\").get_text()\n",
    "    cc_address=soup1.find('div',class_=\"csd_opcrit_content_box\").find('p').get_text(strip=True,separator=',')\n",
    "    #print(link,len(table_all))\n",
    "    #print(cc_address)\n",
    "    #print(link,len(table_all))\n",
    "    if len(table_all)==0:\n",
    "        continue;\n",
    "    else:\n",
    "        table=soup1.findAll('table')[0]\n",
    "        header=table.find_all('th')\n",
    "        #cols=[]\n",
    "        #for th in header:\n",
    "            #cols.append(th.getText())\n",
    "        #cols.append('Center_name')\n",
    "        rows=table.find_all('tr')\n",
    "        for row in rows[1:]:\n",
    "            data.append(row.getText(strip=True,separator=',').replace(',/','/'))\n",
    "        data.append(cc_name)\n",
    "        for i in range(len(data)-1):\n",
    "            table_program_info.loc[i,table_program_info.columns[0]]=data[i].split(',')[0]\n",
    "            table_program_info.loc[i,table_program_info.columns[1]]=data[i].split(',')[1]\n",
    "            table_program_info.loc[i,table_program_info.columns[2]]=data[i].split(',')[2]\n",
    "            table_program_info.loc[i,table_program_info.columns[3]]=data[i].split(',')[3]\n",
    "            table_program_info.loc[i,table_program_info.columns[4]]=data[-1]\n",
    "            table_program_info.loc[i,table_program_info.columns[5]]='No'\n",
    "            table_program_info.loc[i,table_program_info.columns[6]]=cc_address\n",
    "        Early_years_program_info=Early_years_program_info.append(table_program_info,ignore_index=True)\n",
    "    "
   ]
  },
  {
   "cell_type": "markdown",
   "id": "983cbb85",
   "metadata": {},
   "source": [
    "**4.Before_after_school_program_information**"
   ]
  },
  {
   "cell_type": "code",
   "execution_count": null,
   "id": "7e23f6fe",
   "metadata": {},
   "outputs": [],
   "source": [
    "cols=['Program_name','Capacity','Vacancy','Quality_Rating','Center_name','Before_after_school_program','Center_address']\n",
    "Before_after_school_program_info=pd.DataFrame(columns=cols) \n",
    "for link in links:\n",
    "    table_program_info=pd.DataFrame(columns=cols)\n",
    "    data=[]\n",
    "    result1=requests.get(link)\n",
    "    content1=result1.text\n",
    "    soup1=BeautifulSoup(content1,'lxml')\n",
    "    table_all=soup1.findAll('table')\n",
    "    cc_name=soup1.find(class_=\"active\").get_text()\n",
    "    cc_address=soup1.find('div',class_=\"csd_opcrit_content_box\").find('p').get_text(strip=True,separator=',')\n",
    "    #print(link,len(table_all))\n",
    "    if len(table_all)<=1:\n",
    "        continue;\n",
    "    else:\n",
    "        table=soup1.findAll('table')[1]\n",
    "        header=table.find_all('th')\n",
    "        #cols=[]\n",
    "        #for th in header:\n",
    "            #cols.append(th.getText())\n",
    "        #cols.append('Center_name')\n",
    "        rows=table.find_all('tr')\n",
    "        for row in rows[1:]:\n",
    "            data.append(row.getText(strip=True,separator=',').replace(',/','/'))\n",
    "        data.append(cc_name)\n",
    "        for i in range(len(data)-1):\n",
    "            table_program_info.loc[i,table_program_info.columns[0]]=data[i].split(',')[0]\n",
    "            table_program_info.loc[i,table_program_info.columns[1]]=data[i].split(',')[1]\n",
    "            table_program_info.loc[i,table_program_info.columns[2]]=data[i].split(',')[2]\n",
    "            table_program_info.loc[i,table_program_info.columns[3]]=data[i].split(',')[3]\n",
    "            table_program_info.loc[i,table_program_info.columns[4]]=data[-1]\n",
    "            table_program_info.loc[i,table_program_info.columns[5]]='Yes'\n",
    "            table_program_info.loc[i,table_program_info.columns[6]]=cc_address\n",
    "        Before_after_school_program_info=Before_after_school_program_info.append(table_program_info,ignore_index=True)\n",
    "#table_after_program_info_final"
   ]
  },
  {
   "cell_type": "markdown",
   "id": "d0fbb5e8",
   "metadata": {},
   "source": [
    "**Data Cleansing**"
   ]
  },
  {
   "cell_type": "markdown",
   "id": "6812511d",
   "metadata": {},
   "source": [
    "1.Missing Values"
   ]
  },
  {
   "cell_type": "code",
   "execution_count": null,
   "id": "d701aa1a",
   "metadata": {},
   "outputs": [],
   "source": [
    "table_subsidy_info.isnull().sum()"
   ]
  },
  {
   "cell_type": "code",
   "execution_count": null,
   "id": "23513da7",
   "metadata": {},
   "outputs": [],
   "source": [
    "Centre_information.isnull().sum()\n"
   ]
  },
  {
   "cell_type": "code",
   "execution_count": null,
   "id": "3ed7cb02",
   "metadata": {},
   "outputs": [],
   "source": [
    "Early_years_program_info.isnull().sum()"
   ]
  },
  {
   "cell_type": "code",
   "execution_count": null,
   "id": "8428e2ff",
   "metadata": {},
   "outputs": [],
   "source": [
    "Before_after_school_program_info.isnull().sum()"
   ]
  },
  {
   "cell_type": "markdown",
   "id": "4f318bdd",
   "metadata": {},
   "source": [
    "2.Removing Unnecessary information"
   ]
  },
  {
   "cell_type": "code",
   "execution_count": null,
   "id": "e6bf4da1",
   "metadata": {},
   "outputs": [],
   "source": [
    "Centre_information.describe()"
   ]
  },
  {
   "cell_type": "code",
   "execution_count": null,
   "id": "e54bb2ae",
   "metadata": {},
   "outputs": [],
   "source": [
    "Centre_information['Age'].value_counts()"
   ]
  },
  {
   "cell_type": "code",
   "execution_count": null,
   "id": "e53e5f3a",
   "metadata": {},
   "outputs": [],
   "source": [
    "Centre_information['Age']=Centre_information['Age'].str.replace('serves children',\"\")"
   ]
  },
  {
   "cell_type": "code",
   "execution_count": null,
   "id": "886f7167",
   "metadata": {},
   "outputs": [],
   "source": [
    "Early_years_program_info.describe()"
   ]
  },
  {
   "cell_type": "code",
   "execution_count": null,
   "id": "f342cdde",
   "metadata": {},
   "outputs": [],
   "source": [
    "Before_after_school_program_info.describe()"
   ]
  },
  {
   "cell_type": "markdown",
   "id": "91bb9c19",
   "metadata": {},
   "source": [
    "3.Duplicate Check"
   ]
  },
  {
   "cell_type": "code",
   "execution_count": null,
   "id": "f3a4d3ac",
   "metadata": {},
   "outputs": [],
   "source": [
    "table_subsidy_info[table_subsidy_info.duplicated()]"
   ]
  },
  {
   "cell_type": "markdown",
   "id": "321578d8",
   "metadata": {},
   "source": [
    "Drop the records as they are exact duplicates"
   ]
  },
  {
   "cell_type": "code",
   "execution_count": null,
   "id": "fb347bcc",
   "metadata": {},
   "outputs": [],
   "source": [
    "l=table_subsidy_info[table_subsidy_info.duplicated()].index\n",
    "table_subsidy_info=table_subsidy_info.drop_duplicates()\n"
   ]
  },
  {
   "cell_type": "code",
   "execution_count": null,
   "id": "6b95e2a8",
   "metadata": {},
   "outputs": [],
   "source": [
    "Centre_information[Centre_information.duplicated()]"
   ]
  },
  {
   "cell_type": "code",
   "execution_count": null,
   "id": "89eee603",
   "metadata": {},
   "outputs": [],
   "source": [
    "table_program_info_final[table_program_info_final.duplicated()]\n"
   ]
  },
  {
   "cell_type": "code",
   "execution_count": null,
   "id": "c05bdaaa",
   "metadata": {},
   "outputs": [],
   "source": [
    "table_after_program_info_final[table_after_program_info_final.duplicated()]"
   ]
  },
  {
   "cell_type": "markdown",
   "id": "f15901f4",
   "metadata": {},
   "source": [
    "4.Inconsistent Data"
   ]
  },
  {
   "cell_type": "code",
   "execution_count": null,
   "id": "795f2bfe",
   "metadata": {},
   "outputs": [],
   "source": [
    "table_subsidy_info['Fee_subsidy_accepted'].unique()"
   ]
  },
  {
   "cell_type": "code",
   "execution_count": null,
   "id": "b0eb30c8",
   "metadata": {},
   "outputs": [],
   "source": [
    "table_subsidy_info[table_subsidy_info['Fee_subsidy_accepted']=='coming soon']"
   ]
  },
  {
   "cell_type": "code",
   "execution_count": null,
   "id": "4b81ac2e",
   "metadata": {},
   "outputs": [],
   "source": [
    "table_subsidy_info['Fee_subsidy_accepted']=table_subsidy_info['Fee_subsidy_accepted'].str.replace('coming soon','No')"
   ]
  },
  {
   "cell_type": "code",
   "execution_count": null,
   "id": "8f2da1e1",
   "metadata": {},
   "outputs": [],
   "source": [
    "Centre_information.describe()"
   ]
  },
  {
   "cell_type": "markdown",
   "id": "1396a420",
   "metadata": {},
   "source": [
    "The Count of all the fields are not same which shows that there are some inconsistencies"
   ]
  },
  {
   "cell_type": "code",
   "execution_count": null,
   "id": "86659370",
   "metadata": {},
   "outputs": [],
   "source": [
    "Centre_information[Centre_information['Age']=='']\n"
   ]
  },
  {
   "cell_type": "markdown",
   "id": "583f01b4",
   "metadata": {},
   "source": [
    "Records with blank values are extended day programs hence they can be replaced with the value\"Kindergarten to Grade 5/6\""
   ]
  },
  {
   "cell_type": "code",
   "execution_count": null,
   "id": "4f0c038a",
   "metadata": {},
   "outputs": [],
   "source": [
    "l=Centre_information[Centre_information['Age']==''].index\n",
    "for i in l:\n",
    "    Centre_information.loc[i,'Age']='Kindergarten to Grade 5/6'\n",
    "Centre_information[Centre_information['Age']=='']"
   ]
  },
  {
   "cell_type": "code",
   "execution_count": null,
   "id": "bf31a212",
   "metadata": {},
   "outputs": [],
   "source": [
    "Centre_information[Centre_information['Contact']=='']"
   ]
  },
  {
   "cell_type": "markdown",
   "id": "690b9b64",
   "metadata": {},
   "source": [
    "The null values for Contact are updated as 'No contact information'"
   ]
  },
  {
   "cell_type": "code",
   "execution_count": null,
   "id": "7874590c",
   "metadata": {},
   "outputs": [],
   "source": [
    "l=Centre_information[Centre_information['Contact']==''].index\n",
    "for i in l:\n",
    "    Centre_information.loc[i,'Contact']='No Contact Information'\n",
    "Centre_information[Centre_information['Contact']=='']"
   ]
  },
  {
   "cell_type": "code",
   "execution_count": null,
   "id": "f8f1c44a",
   "metadata": {},
   "outputs": [],
   "source": [
    "Removal of \\n\\t"
   ]
  },
  {
   "cell_type": "code",
   "execution_count": null,
   "id": "e0afc539",
   "metadata": {},
   "outputs": [],
   "source": [
    "Centre_information['Contact']=Centre_information['Contact'].str.replace('\\t','')\n",
    "Centre_information['Address']=Centre_information['Address'].str.replace('\\t','')\n",
    "Centre_information['Address']=Centre_information['Address'].str.replace('\\n','')"
   ]
  },
  {
   "cell_type": "code",
   "execution_count": null,
   "id": "60e6b2b8",
   "metadata": {},
   "outputs": [],
   "source": [
    "Early_years_program_info['Center_address']=Early_years_program_info['Center_address'].str.replace('\\t','')\n",
    "Early_years_program_info['Center_address']=Early_years_program_info['Center_address'].str.replace('\\n','')\n",
    "Before_after_school_program_info['Center_address']=Before_after_school_program_info['Center_address'].str.replace('\\t','')\n",
    "Before_after_school_program_info['Center_address']=Before_after_school_program_info['Center_address'].str.replace('\\n','')"
   ]
  },
  {
   "cell_type": "code",
   "execution_count": null,
   "id": "8fded2ac",
   "metadata": {},
   "outputs": [],
   "source": [
    "Early_years_program_info['Quality_Rating']=Early_years_program_info['Quality_Rating'].str.replace('-','')\n",
    "Before_after_school_program_info['Quality_Rating']=Before_after_school_program_info['Quality_Rating'].str.replace('-','')\n",
    "Early_years_program_info['Vacancy']=Early_years_program_info['Vacancy'].str.replace('Unknown','Not updated')\n",
    "Before_after_school_program_info['Vacancy']=Before_after_school_program_info['Vacancy'].str.replace('Unknown','Not updated')"
   ]
  },
  {
   "cell_type": "markdown",
   "id": "2b37eeed",
   "metadata": {},
   "source": [
    "Writing the Dataframes as csv file to AWS s3"
   ]
  },
  {
   "cell_type": "code",
   "execution_count": null,
   "id": "1675e3d6",
   "metadata": {},
   "outputs": [],
   "source": [
    "session = boto3.Session( \n",
    "         aws_access_key_id='<id>', \n",
    "         aws_secret_access_key='<key>')\n",
    "\n",
    "#Then use the session to get the resource\n",
    "s3 = session.resource('s3')\n",
    "my_bucket = s3.Bucket('<bucket>')\n",
    "csv_buffer=StringIO()\n",
    "centre_csv_buffer=StringIO()\n",
    "table_csv_buffer=StringIO()\n",
    "after_csv_buffer=StringIO()\n",
    "table_subsidy_info.to_csv(csv_buffer)\n",
    "Centre_information.to_csv(centre_csv_buffer)\n",
    "Early_years_program_info.to_csv(table_csv_buffer)\n",
    "Before_after_school_program_info.to_csv(after_csv_buffer)\n",
    "#dynamodb=session.resource('dynamodb',region_name='ca-central-1')\n",
    "s3.Object('<bucket>','Project/Subsidy_fee/Subsidy_fee.csv').put(Body=csv_buffer.getvalue())\n",
    "s3.Object('<bucket>','Project/Centre_information/Centre_information.csv').put(Body=centre_csv_buffer.getvalue())\n",
    "s3.Object('<bucket>','Project/Early_Years_program_information/Early_Years_program_information.csv').put(Body=table_csv_buffer.getvalue())\n",
    "s3.Object('<bucket>','Project/Before_after_school_program_information/Before_after_school_program_information.csv').put(Body=after_csv_buffer.getvalue())"
   ]
  },
  {
   "cell_type": "code",
   "execution_count": null,
   "id": "d9103110",
   "metadata": {},
   "outputs": [],
   "source": []
  }
 ],
 "metadata": {
  "kernelspec": {
   "display_name": "Python 3 (ipykernel)",
   "language": "python",
   "name": "python3"
  },
  "language_info": {
   "codemirror_mode": {
    "name": "ipython",
    "version": 3
   },
   "file_extension": ".py",
   "mimetype": "text/x-python",
   "name": "python",
   "nbconvert_exporter": "python",
   "pygments_lexer": "ipython3",
   "version": "3.9.7"
  }
 },
 "nbformat": 4,
 "nbformat_minor": 5
}
